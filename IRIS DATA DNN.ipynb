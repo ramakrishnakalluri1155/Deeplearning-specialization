{
  "nbformat": 4,
  "nbformat_minor": 0,
  "metadata": {
    "colab": {
      "name": "Untitled6.ipynb",
      "version": "0.3.2",
      "provenance": [],
      "collapsed_sections": [],
      "include_colab_link": true
    },
    "kernelspec": {
      "name": "python3",
      "display_name": "Python 3"
    }
  },
  "cells": [
    {
      "cell_type": "markdown",
      "metadata": {
        "id": "view-in-github",
        "colab_type": "text"
      },
      "source": [
        "<a href=\"https://colab.research.google.com/github/ramakrishnakalluri1155/Deeplearning-specialization/blob/master/IRIS%20DATA%20DNN.ipynb\" target=\"_parent\"><img src=\"https://colab.research.google.com/assets/colab-badge.svg\" alt=\"Open In Colab\"/></a>"
      ]
    },
    {
      "metadata": {
        "id": "qG_XnOu4Pbl8",
        "colab_type": "code",
        "colab": {}
      },
      "cell_type": "code",
      "source": [
        "import pandas as pd\n"
      ],
      "execution_count": 0,
      "outputs": []
    },
    {
      "metadata": {
        "id": "WQVRZCP8T_GC",
        "colab_type": "code",
        "colab": {}
      },
      "cell_type": "code",
      "source": [
        "df = pd.read_csv('iris.csv')"
      ],
      "execution_count": 0,
      "outputs": []
    },
    {
      "metadata": {
        "id": "c0i_8Vy3UHPh",
        "colab_type": "code",
        "outputId": "8be5c6c3-0dc9-41ff-fbb9-3b4628adaa35",
        "colab": {
          "base_uri": "https://localhost:8080/",
          "height": 204
        }
      },
      "cell_type": "code",
      "source": [
        "df.head()"
      ],
      "execution_count": 0,
      "outputs": [
        {
          "output_type": "execute_result",
          "data": {
            "text/html": [
              "<div>\n",
              "<style scoped>\n",
              "    .dataframe tbody tr th:only-of-type {\n",
              "        vertical-align: middle;\n",
              "    }\n",
              "\n",
              "    .dataframe tbody tr th {\n",
              "        vertical-align: top;\n",
              "    }\n",
              "\n",
              "    .dataframe thead th {\n",
              "        text-align: right;\n",
              "    }\n",
              "</style>\n",
              "<table border=\"1\" class=\"dataframe\">\n",
              "  <thead>\n",
              "    <tr style=\"text-align: right;\">\n",
              "      <th></th>\n",
              "      <th>sepal length (cm)</th>\n",
              "      <th>sepal width (cm)</th>\n",
              "      <th>petal length (cm)</th>\n",
              "      <th>petal width (cm)</th>\n",
              "      <th>target</th>\n",
              "    </tr>\n",
              "  </thead>\n",
              "  <tbody>\n",
              "    <tr>\n",
              "      <th>0</th>\n",
              "      <td>5.1</td>\n",
              "      <td>3.5</td>\n",
              "      <td>1.4</td>\n",
              "      <td>0.2</td>\n",
              "      <td>0.0</td>\n",
              "    </tr>\n",
              "    <tr>\n",
              "      <th>1</th>\n",
              "      <td>4.9</td>\n",
              "      <td>3.0</td>\n",
              "      <td>1.4</td>\n",
              "      <td>0.2</td>\n",
              "      <td>0.0</td>\n",
              "    </tr>\n",
              "    <tr>\n",
              "      <th>2</th>\n",
              "      <td>4.7</td>\n",
              "      <td>3.2</td>\n",
              "      <td>1.3</td>\n",
              "      <td>0.2</td>\n",
              "      <td>0.0</td>\n",
              "    </tr>\n",
              "    <tr>\n",
              "      <th>3</th>\n",
              "      <td>4.6</td>\n",
              "      <td>3.1</td>\n",
              "      <td>1.5</td>\n",
              "      <td>0.2</td>\n",
              "      <td>0.0</td>\n",
              "    </tr>\n",
              "    <tr>\n",
              "      <th>4</th>\n",
              "      <td>5.0</td>\n",
              "      <td>3.6</td>\n",
              "      <td>1.4</td>\n",
              "      <td>0.2</td>\n",
              "      <td>0.0</td>\n",
              "    </tr>\n",
              "  </tbody>\n",
              "</table>\n",
              "</div>"
            ],
            "text/plain": [
              "   sepal length (cm)  sepal width (cm)  petal length (cm)  petal width (cm)  \\\n",
              "0                5.1               3.5                1.4               0.2   \n",
              "1                4.9               3.0                1.4               0.2   \n",
              "2                4.7               3.2                1.3               0.2   \n",
              "3                4.6               3.1                1.5               0.2   \n",
              "4                5.0               3.6                1.4               0.2   \n",
              "\n",
              "   target  \n",
              "0     0.0  \n",
              "1     0.0  \n",
              "2     0.0  \n",
              "3     0.0  \n",
              "4     0.0  "
            ]
          },
          "metadata": {
            "tags": []
          },
          "execution_count": 4
        }
      ]
    },
    {
      "metadata": {
        "id": "p8XU48t1UjOv",
        "colab_type": "code",
        "outputId": "33f7b399-58f6-42e5-e45f-5bf9c5251d9c",
        "colab": {
          "base_uri": "https://localhost:8080/",
          "height": 68
        }
      },
      "cell_type": "code",
      "source": [
        "df.columns"
      ],
      "execution_count": 0,
      "outputs": [
        {
          "output_type": "execute_result",
          "data": {
            "text/plain": [
              "Index(['sepal length (cm)', 'sepal width (cm)', 'petal length (cm)',\n",
              "       'petal width (cm)', 'target'],\n",
              "      dtype='object')"
            ]
          },
          "metadata": {
            "tags": []
          },
          "execution_count": 5
        }
      ]
    },
    {
      "metadata": {
        "id": "6_491w6MV0uM",
        "colab_type": "code",
        "colab": {}
      },
      "cell_type": "code",
      "source": [
        "df.columns = ['sepal_length','sepal_width','petal_length','petal_width','target']"
      ],
      "execution_count": 0,
      "outputs": []
    },
    {
      "metadata": {
        "id": "h7Zi1DSnV9BB",
        "colab_type": "code",
        "outputId": "20185689-9fc2-4ec1-812e-2d19bad0eb64",
        "colab": {
          "base_uri": "https://localhost:8080/",
          "height": 34
        }
      },
      "cell_type": "code",
      "source": [
        "df.columns"
      ],
      "execution_count": 0,
      "outputs": [
        {
          "output_type": "execute_result",
          "data": {
            "text/plain": [
              "Index(['sepal_length', 'sepal_width', 'petal_length', 'petal_width', 'target'], dtype='object')"
            ]
          },
          "metadata": {
            "tags": []
          },
          "execution_count": 9
        }
      ]
    },
    {
      "metadata": {
        "id": "HKLzl1tWWB5X",
        "colab_type": "code",
        "outputId": "b9d695eb-42a5-47f0-e810-38e26ede7ff5",
        "colab": {
          "base_uri": "https://localhost:8080/",
          "height": 204
        }
      },
      "cell_type": "code",
      "source": [
        "df.head()  # No more spaces and no more paranthesis"
      ],
      "execution_count": 0,
      "outputs": [
        {
          "output_type": "execute_result",
          "data": {
            "text/html": [
              "<div>\n",
              "<style scoped>\n",
              "    .dataframe tbody tr th:only-of-type {\n",
              "        vertical-align: middle;\n",
              "    }\n",
              "\n",
              "    .dataframe tbody tr th {\n",
              "        vertical-align: top;\n",
              "    }\n",
              "\n",
              "    .dataframe thead th {\n",
              "        text-align: right;\n",
              "    }\n",
              "</style>\n",
              "<table border=\"1\" class=\"dataframe\">\n",
              "  <thead>\n",
              "    <tr style=\"text-align: right;\">\n",
              "      <th></th>\n",
              "      <th>sepal_length</th>\n",
              "      <th>sepal_width</th>\n",
              "      <th>petal_length</th>\n",
              "      <th>petal_width</th>\n",
              "      <th>target</th>\n",
              "    </tr>\n",
              "  </thead>\n",
              "  <tbody>\n",
              "    <tr>\n",
              "      <th>0</th>\n",
              "      <td>5.1</td>\n",
              "      <td>3.5</td>\n",
              "      <td>1.4</td>\n",
              "      <td>0.2</td>\n",
              "      <td>0.0</td>\n",
              "    </tr>\n",
              "    <tr>\n",
              "      <th>1</th>\n",
              "      <td>4.9</td>\n",
              "      <td>3.0</td>\n",
              "      <td>1.4</td>\n",
              "      <td>0.2</td>\n",
              "      <td>0.0</td>\n",
              "    </tr>\n",
              "    <tr>\n",
              "      <th>2</th>\n",
              "      <td>4.7</td>\n",
              "      <td>3.2</td>\n",
              "      <td>1.3</td>\n",
              "      <td>0.2</td>\n",
              "      <td>0.0</td>\n",
              "    </tr>\n",
              "    <tr>\n",
              "      <th>3</th>\n",
              "      <td>4.6</td>\n",
              "      <td>3.1</td>\n",
              "      <td>1.5</td>\n",
              "      <td>0.2</td>\n",
              "      <td>0.0</td>\n",
              "    </tr>\n",
              "    <tr>\n",
              "      <th>4</th>\n",
              "      <td>5.0</td>\n",
              "      <td>3.6</td>\n",
              "      <td>1.4</td>\n",
              "      <td>0.2</td>\n",
              "      <td>0.0</td>\n",
              "    </tr>\n",
              "  </tbody>\n",
              "</table>\n",
              "</div>"
            ],
            "text/plain": [
              "   sepal_length  sepal_width  petal_length  petal_width  target\n",
              "0           5.1          3.5           1.4          0.2     0.0\n",
              "1           4.9          3.0           1.4          0.2     0.0\n",
              "2           4.7          3.2           1.3          0.2     0.0\n",
              "3           4.6          3.1           1.5          0.2     0.0\n",
              "4           5.0          3.6           1.4          0.2     0.0"
            ]
          },
          "metadata": {
            "tags": []
          },
          "execution_count": 11
        }
      ]
    },
    {
      "metadata": {
        "id": "UVPu22dkWE48",
        "colab_type": "code",
        "colab": {}
      },
      "cell_type": "code",
      "source": [
        "df['target'] = df['target'].apply(int)  # converting target variable into the integer only"
      ],
      "execution_count": 0,
      "outputs": []
    },
    {
      "metadata": {
        "id": "3gYsejrXW8qH",
        "colab_type": "code",
        "outputId": "cec6cded-3c35-4ad2-ad51-f89a52821502",
        "colab": {
          "base_uri": "https://localhost:8080/",
          "height": 204
        }
      },
      "cell_type": "code",
      "source": [
        "df.head()"
      ],
      "execution_count": 0,
      "outputs": [
        {
          "output_type": "execute_result",
          "data": {
            "text/html": [
              "<div>\n",
              "<style scoped>\n",
              "    .dataframe tbody tr th:only-of-type {\n",
              "        vertical-align: middle;\n",
              "    }\n",
              "\n",
              "    .dataframe tbody tr th {\n",
              "        vertical-align: top;\n",
              "    }\n",
              "\n",
              "    .dataframe thead th {\n",
              "        text-align: right;\n",
              "    }\n",
              "</style>\n",
              "<table border=\"1\" class=\"dataframe\">\n",
              "  <thead>\n",
              "    <tr style=\"text-align: right;\">\n",
              "      <th></th>\n",
              "      <th>sepal_length</th>\n",
              "      <th>sepal_width</th>\n",
              "      <th>petal_length</th>\n",
              "      <th>petal_width</th>\n",
              "      <th>target</th>\n",
              "    </tr>\n",
              "  </thead>\n",
              "  <tbody>\n",
              "    <tr>\n",
              "      <th>0</th>\n",
              "      <td>5.1</td>\n",
              "      <td>3.5</td>\n",
              "      <td>1.4</td>\n",
              "      <td>0.2</td>\n",
              "      <td>0</td>\n",
              "    </tr>\n",
              "    <tr>\n",
              "      <th>1</th>\n",
              "      <td>4.9</td>\n",
              "      <td>3.0</td>\n",
              "      <td>1.4</td>\n",
              "      <td>0.2</td>\n",
              "      <td>0</td>\n",
              "    </tr>\n",
              "    <tr>\n",
              "      <th>2</th>\n",
              "      <td>4.7</td>\n",
              "      <td>3.2</td>\n",
              "      <td>1.3</td>\n",
              "      <td>0.2</td>\n",
              "      <td>0</td>\n",
              "    </tr>\n",
              "    <tr>\n",
              "      <th>3</th>\n",
              "      <td>4.6</td>\n",
              "      <td>3.1</td>\n",
              "      <td>1.5</td>\n",
              "      <td>0.2</td>\n",
              "      <td>0</td>\n",
              "    </tr>\n",
              "    <tr>\n",
              "      <th>4</th>\n",
              "      <td>5.0</td>\n",
              "      <td>3.6</td>\n",
              "      <td>1.4</td>\n",
              "      <td>0.2</td>\n",
              "      <td>0</td>\n",
              "    </tr>\n",
              "  </tbody>\n",
              "</table>\n",
              "</div>"
            ],
            "text/plain": [
              "   sepal_length  sepal_width  petal_length  petal_width  target\n",
              "0           5.1          3.5           1.4          0.2       0\n",
              "1           4.9          3.0           1.4          0.2       0\n",
              "2           4.7          3.2           1.3          0.2       0\n",
              "3           4.6          3.1           1.5          0.2       0\n",
              "4           5.0          3.6           1.4          0.2       0"
            ]
          },
          "metadata": {
            "tags": []
          },
          "execution_count": 13
        }
      ]
    },
    {
      "metadata": {
        "id": "is8OOJptXCur",
        "colab_type": "code",
        "colab": {}
      },
      "cell_type": "code",
      "source": [
        "X = df.drop('target',axis=1)\n",
        "y = df['target'].apply(int)"
      ],
      "execution_count": 0,
      "outputs": []
    },
    {
      "metadata": {
        "id": "7OPAM53gXSGP",
        "colab_type": "code",
        "outputId": "2193c3c6-3d14-46d9-e32f-49587b353fe4",
        "colab": {
          "base_uri": "https://localhost:8080/",
          "height": 1071
        }
      },
      "cell_type": "code",
      "source": [
        "y"
      ],
      "execution_count": 0,
      "outputs": [
        {
          "output_type": "execute_result",
          "data": {
            "text/plain": [
              "0      0\n",
              "1      0\n",
              "2      0\n",
              "3      0\n",
              "4      0\n",
              "5      0\n",
              "6      0\n",
              "7      0\n",
              "8      0\n",
              "9      0\n",
              "10     0\n",
              "11     0\n",
              "12     0\n",
              "13     0\n",
              "14     0\n",
              "15     0\n",
              "16     0\n",
              "17     0\n",
              "18     0\n",
              "19     0\n",
              "20     0\n",
              "21     0\n",
              "22     0\n",
              "23     0\n",
              "24     0\n",
              "25     0\n",
              "26     0\n",
              "27     0\n",
              "28     0\n",
              "29     0\n",
              "      ..\n",
              "120    2\n",
              "121    2\n",
              "122    2\n",
              "123    2\n",
              "124    2\n",
              "125    2\n",
              "126    2\n",
              "127    2\n",
              "128    2\n",
              "129    2\n",
              "130    2\n",
              "131    2\n",
              "132    2\n",
              "133    2\n",
              "134    2\n",
              "135    2\n",
              "136    2\n",
              "137    2\n",
              "138    2\n",
              "139    2\n",
              "140    2\n",
              "141    2\n",
              "142    2\n",
              "143    2\n",
              "144    2\n",
              "145    2\n",
              "146    2\n",
              "147    2\n",
              "148    2\n",
              "149    2\n",
              "Name: target, Length: 150, dtype: int64"
            ]
          },
          "metadata": {
            "tags": []
          },
          "execution_count": 15
        }
      ]
    },
    {
      "metadata": {
        "id": "PXFjNPNCXZDH",
        "colab_type": "code",
        "outputId": "b4526ee4-5502-461a-d7ca-16d4f8fde426",
        "colab": {
          "base_uri": "https://localhost:8080/",
          "height": 163
        }
      },
      "cell_type": "code",
      "source": [
        ""
      ],
      "execution_count": 0,
      "outputs": [
        {
          "output_type": "error",
          "ename": "NameError",
          "evalue": "ignored",
          "traceback": [
            "\u001b[0;31m---------------------------------------------------------------------------\u001b[0m",
            "\u001b[0;31mNameError\u001b[0m                                 Traceback (most recent call last)",
            "\u001b[0;32m<ipython-input-16-6fcf9dfbd479>\u001b[0m in \u001b[0;36m<module>\u001b[0;34m()\u001b[0m\n\u001b[0;32m----> 1\u001b[0;31m \u001b[0mx\u001b[0m\u001b[0;34m\u001b[0m\u001b[0;34m\u001b[0m\u001b[0m\n\u001b[0m",
            "\u001b[0;31mNameError\u001b[0m: name 'x' is not defined"
          ]
        }
      ]
    },
    {
      "metadata": {
        "id": "l6TX2U3gXZ7E",
        "colab_type": "code",
        "outputId": "fe022121-5268-4495-c4b9-541a44fb00e8",
        "colab": {
          "base_uri": "https://localhost:8080/",
          "height": 1969
        }
      },
      "cell_type": "code",
      "source": [
        "X "
      ],
      "execution_count": 0,
      "outputs": [
        {
          "output_type": "execute_result",
          "data": {
            "text/html": [
              "<div>\n",
              "<style scoped>\n",
              "    .dataframe tbody tr th:only-of-type {\n",
              "        vertical-align: middle;\n",
              "    }\n",
              "\n",
              "    .dataframe tbody tr th {\n",
              "        vertical-align: top;\n",
              "    }\n",
              "\n",
              "    .dataframe thead th {\n",
              "        text-align: right;\n",
              "    }\n",
              "</style>\n",
              "<table border=\"1\" class=\"dataframe\">\n",
              "  <thead>\n",
              "    <tr style=\"text-align: right;\">\n",
              "      <th></th>\n",
              "      <th>sepal_length</th>\n",
              "      <th>sepal_width</th>\n",
              "      <th>petal_length</th>\n",
              "      <th>petal_width</th>\n",
              "    </tr>\n",
              "  </thead>\n",
              "  <tbody>\n",
              "    <tr>\n",
              "      <th>0</th>\n",
              "      <td>5.1</td>\n",
              "      <td>3.5</td>\n",
              "      <td>1.4</td>\n",
              "      <td>0.2</td>\n",
              "    </tr>\n",
              "    <tr>\n",
              "      <th>1</th>\n",
              "      <td>4.9</td>\n",
              "      <td>3.0</td>\n",
              "      <td>1.4</td>\n",
              "      <td>0.2</td>\n",
              "    </tr>\n",
              "    <tr>\n",
              "      <th>2</th>\n",
              "      <td>4.7</td>\n",
              "      <td>3.2</td>\n",
              "      <td>1.3</td>\n",
              "      <td>0.2</td>\n",
              "    </tr>\n",
              "    <tr>\n",
              "      <th>3</th>\n",
              "      <td>4.6</td>\n",
              "      <td>3.1</td>\n",
              "      <td>1.5</td>\n",
              "      <td>0.2</td>\n",
              "    </tr>\n",
              "    <tr>\n",
              "      <th>4</th>\n",
              "      <td>5.0</td>\n",
              "      <td>3.6</td>\n",
              "      <td>1.4</td>\n",
              "      <td>0.2</td>\n",
              "    </tr>\n",
              "    <tr>\n",
              "      <th>5</th>\n",
              "      <td>5.4</td>\n",
              "      <td>3.9</td>\n",
              "      <td>1.7</td>\n",
              "      <td>0.4</td>\n",
              "    </tr>\n",
              "    <tr>\n",
              "      <th>6</th>\n",
              "      <td>4.6</td>\n",
              "      <td>3.4</td>\n",
              "      <td>1.4</td>\n",
              "      <td>0.3</td>\n",
              "    </tr>\n",
              "    <tr>\n",
              "      <th>7</th>\n",
              "      <td>5.0</td>\n",
              "      <td>3.4</td>\n",
              "      <td>1.5</td>\n",
              "      <td>0.2</td>\n",
              "    </tr>\n",
              "    <tr>\n",
              "      <th>8</th>\n",
              "      <td>4.4</td>\n",
              "      <td>2.9</td>\n",
              "      <td>1.4</td>\n",
              "      <td>0.2</td>\n",
              "    </tr>\n",
              "    <tr>\n",
              "      <th>9</th>\n",
              "      <td>4.9</td>\n",
              "      <td>3.1</td>\n",
              "      <td>1.5</td>\n",
              "      <td>0.1</td>\n",
              "    </tr>\n",
              "    <tr>\n",
              "      <th>10</th>\n",
              "      <td>5.4</td>\n",
              "      <td>3.7</td>\n",
              "      <td>1.5</td>\n",
              "      <td>0.2</td>\n",
              "    </tr>\n",
              "    <tr>\n",
              "      <th>11</th>\n",
              "      <td>4.8</td>\n",
              "      <td>3.4</td>\n",
              "      <td>1.6</td>\n",
              "      <td>0.2</td>\n",
              "    </tr>\n",
              "    <tr>\n",
              "      <th>12</th>\n",
              "      <td>4.8</td>\n",
              "      <td>3.0</td>\n",
              "      <td>1.4</td>\n",
              "      <td>0.1</td>\n",
              "    </tr>\n",
              "    <tr>\n",
              "      <th>13</th>\n",
              "      <td>4.3</td>\n",
              "      <td>3.0</td>\n",
              "      <td>1.1</td>\n",
              "      <td>0.1</td>\n",
              "    </tr>\n",
              "    <tr>\n",
              "      <th>14</th>\n",
              "      <td>5.8</td>\n",
              "      <td>4.0</td>\n",
              "      <td>1.2</td>\n",
              "      <td>0.2</td>\n",
              "    </tr>\n",
              "    <tr>\n",
              "      <th>15</th>\n",
              "      <td>5.7</td>\n",
              "      <td>4.4</td>\n",
              "      <td>1.5</td>\n",
              "      <td>0.4</td>\n",
              "    </tr>\n",
              "    <tr>\n",
              "      <th>16</th>\n",
              "      <td>5.4</td>\n",
              "      <td>3.9</td>\n",
              "      <td>1.3</td>\n",
              "      <td>0.4</td>\n",
              "    </tr>\n",
              "    <tr>\n",
              "      <th>17</th>\n",
              "      <td>5.1</td>\n",
              "      <td>3.5</td>\n",
              "      <td>1.4</td>\n",
              "      <td>0.3</td>\n",
              "    </tr>\n",
              "    <tr>\n",
              "      <th>18</th>\n",
              "      <td>5.7</td>\n",
              "      <td>3.8</td>\n",
              "      <td>1.7</td>\n",
              "      <td>0.3</td>\n",
              "    </tr>\n",
              "    <tr>\n",
              "      <th>19</th>\n",
              "      <td>5.1</td>\n",
              "      <td>3.8</td>\n",
              "      <td>1.5</td>\n",
              "      <td>0.3</td>\n",
              "    </tr>\n",
              "    <tr>\n",
              "      <th>20</th>\n",
              "      <td>5.4</td>\n",
              "      <td>3.4</td>\n",
              "      <td>1.7</td>\n",
              "      <td>0.2</td>\n",
              "    </tr>\n",
              "    <tr>\n",
              "      <th>21</th>\n",
              "      <td>5.1</td>\n",
              "      <td>3.7</td>\n",
              "      <td>1.5</td>\n",
              "      <td>0.4</td>\n",
              "    </tr>\n",
              "    <tr>\n",
              "      <th>22</th>\n",
              "      <td>4.6</td>\n",
              "      <td>3.6</td>\n",
              "      <td>1.0</td>\n",
              "      <td>0.2</td>\n",
              "    </tr>\n",
              "    <tr>\n",
              "      <th>23</th>\n",
              "      <td>5.1</td>\n",
              "      <td>3.3</td>\n",
              "      <td>1.7</td>\n",
              "      <td>0.5</td>\n",
              "    </tr>\n",
              "    <tr>\n",
              "      <th>24</th>\n",
              "      <td>4.8</td>\n",
              "      <td>3.4</td>\n",
              "      <td>1.9</td>\n",
              "      <td>0.2</td>\n",
              "    </tr>\n",
              "    <tr>\n",
              "      <th>25</th>\n",
              "      <td>5.0</td>\n",
              "      <td>3.0</td>\n",
              "      <td>1.6</td>\n",
              "      <td>0.2</td>\n",
              "    </tr>\n",
              "    <tr>\n",
              "      <th>26</th>\n",
              "      <td>5.0</td>\n",
              "      <td>3.4</td>\n",
              "      <td>1.6</td>\n",
              "      <td>0.4</td>\n",
              "    </tr>\n",
              "    <tr>\n",
              "      <th>27</th>\n",
              "      <td>5.2</td>\n",
              "      <td>3.5</td>\n",
              "      <td>1.5</td>\n",
              "      <td>0.2</td>\n",
              "    </tr>\n",
              "    <tr>\n",
              "      <th>28</th>\n",
              "      <td>5.2</td>\n",
              "      <td>3.4</td>\n",
              "      <td>1.4</td>\n",
              "      <td>0.2</td>\n",
              "    </tr>\n",
              "    <tr>\n",
              "      <th>29</th>\n",
              "      <td>4.7</td>\n",
              "      <td>3.2</td>\n",
              "      <td>1.6</td>\n",
              "      <td>0.2</td>\n",
              "    </tr>\n",
              "    <tr>\n",
              "      <th>...</th>\n",
              "      <td>...</td>\n",
              "      <td>...</td>\n",
              "      <td>...</td>\n",
              "      <td>...</td>\n",
              "    </tr>\n",
              "    <tr>\n",
              "      <th>120</th>\n",
              "      <td>6.9</td>\n",
              "      <td>3.2</td>\n",
              "      <td>5.7</td>\n",
              "      <td>2.3</td>\n",
              "    </tr>\n",
              "    <tr>\n",
              "      <th>121</th>\n",
              "      <td>5.6</td>\n",
              "      <td>2.8</td>\n",
              "      <td>4.9</td>\n",
              "      <td>2.0</td>\n",
              "    </tr>\n",
              "    <tr>\n",
              "      <th>122</th>\n",
              "      <td>7.7</td>\n",
              "      <td>2.8</td>\n",
              "      <td>6.7</td>\n",
              "      <td>2.0</td>\n",
              "    </tr>\n",
              "    <tr>\n",
              "      <th>123</th>\n",
              "      <td>6.3</td>\n",
              "      <td>2.7</td>\n",
              "      <td>4.9</td>\n",
              "      <td>1.8</td>\n",
              "    </tr>\n",
              "    <tr>\n",
              "      <th>124</th>\n",
              "      <td>6.7</td>\n",
              "      <td>3.3</td>\n",
              "      <td>5.7</td>\n",
              "      <td>2.1</td>\n",
              "    </tr>\n",
              "    <tr>\n",
              "      <th>125</th>\n",
              "      <td>7.2</td>\n",
              "      <td>3.2</td>\n",
              "      <td>6.0</td>\n",
              "      <td>1.8</td>\n",
              "    </tr>\n",
              "    <tr>\n",
              "      <th>126</th>\n",
              "      <td>6.2</td>\n",
              "      <td>2.8</td>\n",
              "      <td>4.8</td>\n",
              "      <td>1.8</td>\n",
              "    </tr>\n",
              "    <tr>\n",
              "      <th>127</th>\n",
              "      <td>6.1</td>\n",
              "      <td>3.0</td>\n",
              "      <td>4.9</td>\n",
              "      <td>1.8</td>\n",
              "    </tr>\n",
              "    <tr>\n",
              "      <th>128</th>\n",
              "      <td>6.4</td>\n",
              "      <td>2.8</td>\n",
              "      <td>5.6</td>\n",
              "      <td>2.1</td>\n",
              "    </tr>\n",
              "    <tr>\n",
              "      <th>129</th>\n",
              "      <td>7.2</td>\n",
              "      <td>3.0</td>\n",
              "      <td>5.8</td>\n",
              "      <td>1.6</td>\n",
              "    </tr>\n",
              "    <tr>\n",
              "      <th>130</th>\n",
              "      <td>7.4</td>\n",
              "      <td>2.8</td>\n",
              "      <td>6.1</td>\n",
              "      <td>1.9</td>\n",
              "    </tr>\n",
              "    <tr>\n",
              "      <th>131</th>\n",
              "      <td>7.9</td>\n",
              "      <td>3.8</td>\n",
              "      <td>6.4</td>\n",
              "      <td>2.0</td>\n",
              "    </tr>\n",
              "    <tr>\n",
              "      <th>132</th>\n",
              "      <td>6.4</td>\n",
              "      <td>2.8</td>\n",
              "      <td>5.6</td>\n",
              "      <td>2.2</td>\n",
              "    </tr>\n",
              "    <tr>\n",
              "      <th>133</th>\n",
              "      <td>6.3</td>\n",
              "      <td>2.8</td>\n",
              "      <td>5.1</td>\n",
              "      <td>1.5</td>\n",
              "    </tr>\n",
              "    <tr>\n",
              "      <th>134</th>\n",
              "      <td>6.1</td>\n",
              "      <td>2.6</td>\n",
              "      <td>5.6</td>\n",
              "      <td>1.4</td>\n",
              "    </tr>\n",
              "    <tr>\n",
              "      <th>135</th>\n",
              "      <td>7.7</td>\n",
              "      <td>3.0</td>\n",
              "      <td>6.1</td>\n",
              "      <td>2.3</td>\n",
              "    </tr>\n",
              "    <tr>\n",
              "      <th>136</th>\n",
              "      <td>6.3</td>\n",
              "      <td>3.4</td>\n",
              "      <td>5.6</td>\n",
              "      <td>2.4</td>\n",
              "    </tr>\n",
              "    <tr>\n",
              "      <th>137</th>\n",
              "      <td>6.4</td>\n",
              "      <td>3.1</td>\n",
              "      <td>5.5</td>\n",
              "      <td>1.8</td>\n",
              "    </tr>\n",
              "    <tr>\n",
              "      <th>138</th>\n",
              "      <td>6.0</td>\n",
              "      <td>3.0</td>\n",
              "      <td>4.8</td>\n",
              "      <td>1.8</td>\n",
              "    </tr>\n",
              "    <tr>\n",
              "      <th>139</th>\n",
              "      <td>6.9</td>\n",
              "      <td>3.1</td>\n",
              "      <td>5.4</td>\n",
              "      <td>2.1</td>\n",
              "    </tr>\n",
              "    <tr>\n",
              "      <th>140</th>\n",
              "      <td>6.7</td>\n",
              "      <td>3.1</td>\n",
              "      <td>5.6</td>\n",
              "      <td>2.4</td>\n",
              "    </tr>\n",
              "    <tr>\n",
              "      <th>141</th>\n",
              "      <td>6.9</td>\n",
              "      <td>3.1</td>\n",
              "      <td>5.1</td>\n",
              "      <td>2.3</td>\n",
              "    </tr>\n",
              "    <tr>\n",
              "      <th>142</th>\n",
              "      <td>5.8</td>\n",
              "      <td>2.7</td>\n",
              "      <td>5.1</td>\n",
              "      <td>1.9</td>\n",
              "    </tr>\n",
              "    <tr>\n",
              "      <th>143</th>\n",
              "      <td>6.8</td>\n",
              "      <td>3.2</td>\n",
              "      <td>5.9</td>\n",
              "      <td>2.3</td>\n",
              "    </tr>\n",
              "    <tr>\n",
              "      <th>144</th>\n",
              "      <td>6.7</td>\n",
              "      <td>3.3</td>\n",
              "      <td>5.7</td>\n",
              "      <td>2.5</td>\n",
              "    </tr>\n",
              "    <tr>\n",
              "      <th>145</th>\n",
              "      <td>6.7</td>\n",
              "      <td>3.0</td>\n",
              "      <td>5.2</td>\n",
              "      <td>2.3</td>\n",
              "    </tr>\n",
              "    <tr>\n",
              "      <th>146</th>\n",
              "      <td>6.3</td>\n",
              "      <td>2.5</td>\n",
              "      <td>5.0</td>\n",
              "      <td>1.9</td>\n",
              "    </tr>\n",
              "    <tr>\n",
              "      <th>147</th>\n",
              "      <td>6.5</td>\n",
              "      <td>3.0</td>\n",
              "      <td>5.2</td>\n",
              "      <td>2.0</td>\n",
              "    </tr>\n",
              "    <tr>\n",
              "      <th>148</th>\n",
              "      <td>6.2</td>\n",
              "      <td>3.4</td>\n",
              "      <td>5.4</td>\n",
              "      <td>2.3</td>\n",
              "    </tr>\n",
              "    <tr>\n",
              "      <th>149</th>\n",
              "      <td>5.9</td>\n",
              "      <td>3.0</td>\n",
              "      <td>5.1</td>\n",
              "      <td>1.8</td>\n",
              "    </tr>\n",
              "  </tbody>\n",
              "</table>\n",
              "<p>150 rows × 4 columns</p>\n",
              "</div>"
            ],
            "text/plain": [
              "     sepal_length  sepal_width  petal_length  petal_width\n",
              "0             5.1          3.5           1.4          0.2\n",
              "1             4.9          3.0           1.4          0.2\n",
              "2             4.7          3.2           1.3          0.2\n",
              "3             4.6          3.1           1.5          0.2\n",
              "4             5.0          3.6           1.4          0.2\n",
              "5             5.4          3.9           1.7          0.4\n",
              "6             4.6          3.4           1.4          0.3\n",
              "7             5.0          3.4           1.5          0.2\n",
              "8             4.4          2.9           1.4          0.2\n",
              "9             4.9          3.1           1.5          0.1\n",
              "10            5.4          3.7           1.5          0.2\n",
              "11            4.8          3.4           1.6          0.2\n",
              "12            4.8          3.0           1.4          0.1\n",
              "13            4.3          3.0           1.1          0.1\n",
              "14            5.8          4.0           1.2          0.2\n",
              "15            5.7          4.4           1.5          0.4\n",
              "16            5.4          3.9           1.3          0.4\n",
              "17            5.1          3.5           1.4          0.3\n",
              "18            5.7          3.8           1.7          0.3\n",
              "19            5.1          3.8           1.5          0.3\n",
              "20            5.4          3.4           1.7          0.2\n",
              "21            5.1          3.7           1.5          0.4\n",
              "22            4.6          3.6           1.0          0.2\n",
              "23            5.1          3.3           1.7          0.5\n",
              "24            4.8          3.4           1.9          0.2\n",
              "25            5.0          3.0           1.6          0.2\n",
              "26            5.0          3.4           1.6          0.4\n",
              "27            5.2          3.5           1.5          0.2\n",
              "28            5.2          3.4           1.4          0.2\n",
              "29            4.7          3.2           1.6          0.2\n",
              "..            ...          ...           ...          ...\n",
              "120           6.9          3.2           5.7          2.3\n",
              "121           5.6          2.8           4.9          2.0\n",
              "122           7.7          2.8           6.7          2.0\n",
              "123           6.3          2.7           4.9          1.8\n",
              "124           6.7          3.3           5.7          2.1\n",
              "125           7.2          3.2           6.0          1.8\n",
              "126           6.2          2.8           4.8          1.8\n",
              "127           6.1          3.0           4.9          1.8\n",
              "128           6.4          2.8           5.6          2.1\n",
              "129           7.2          3.0           5.8          1.6\n",
              "130           7.4          2.8           6.1          1.9\n",
              "131           7.9          3.8           6.4          2.0\n",
              "132           6.4          2.8           5.6          2.2\n",
              "133           6.3          2.8           5.1          1.5\n",
              "134           6.1          2.6           5.6          1.4\n",
              "135           7.7          3.0           6.1          2.3\n",
              "136           6.3          3.4           5.6          2.4\n",
              "137           6.4          3.1           5.5          1.8\n",
              "138           6.0          3.0           4.8          1.8\n",
              "139           6.9          3.1           5.4          2.1\n",
              "140           6.7          3.1           5.6          2.4\n",
              "141           6.9          3.1           5.1          2.3\n",
              "142           5.8          2.7           5.1          1.9\n",
              "143           6.8          3.2           5.9          2.3\n",
              "144           6.7          3.3           5.7          2.5\n",
              "145           6.7          3.0           5.2          2.3\n",
              "146           6.3          2.5           5.0          1.9\n",
              "147           6.5          3.0           5.2          2.0\n",
              "148           6.2          3.4           5.4          2.3\n",
              "149           5.9          3.0           5.1          1.8\n",
              "\n",
              "[150 rows x 4 columns]"
            ]
          },
          "metadata": {
            "tags": []
          },
          "execution_count": 17
        }
      ]
    },
    {
      "metadata": {
        "id": "l16LlJ1AXd1I",
        "colab_type": "code",
        "colab": {}
      },
      "cell_type": "code",
      "source": [
        "from sklearn.model_selection import train_test_split"
      ],
      "execution_count": 0,
      "outputs": []
    },
    {
      "metadata": {
        "id": "9-6vOWb7YLOt",
        "colab_type": "code",
        "colab": {}
      },
      "cell_type": "code",
      "source": [
        "X_train, X_test, y_train, y_test = train_test_split(X, y, test_size=0.3, random_state=42)"
      ],
      "execution_count": 0,
      "outputs": []
    },
    {
      "metadata": {
        "id": "UT7R9nTNYNgI",
        "colab_type": "code",
        "colab": {}
      },
      "cell_type": "code",
      "source": [
        "import tensorflow as tf"
      ],
      "execution_count": 0,
      "outputs": []
    },
    {
      "metadata": {
        "id": "qIgjrIgbeSMh",
        "colab_type": "code",
        "colab": {}
      },
      "cell_type": "code",
      "source": [
        "#  feature columns creation"
      ],
      "execution_count": 0,
      "outputs": []
    },
    {
      "metadata": {
        "id": "Rgd1NglOfMwG",
        "colab_type": "code",
        "colab": {
          "base_uri": "https://localhost:8080/",
          "height": 35
        },
        "outputId": "35eae676-cdb6-4937-c694-9a42e4bc1b20"
      },
      "cell_type": "code",
      "source": [
        "X.columns"
      ],
      "execution_count": 25,
      "outputs": [
        {
          "output_type": "execute_result",
          "data": {
            "text/plain": [
              "Index(['sepal_length', 'sepal_width', 'petal_length', 'petal_width'], dtype='object')"
            ]
          },
          "metadata": {
            "tags": []
          },
          "execution_count": 25
        }
      ]
    },
    {
      "metadata": {
        "id": "3j4yFV-3fOBd",
        "colab_type": "code",
        "colab": {}
      },
      "cell_type": "code",
      "source": [
        "feat_cols = []\n",
        "\n",
        "for col in X.columns:\n",
        "    feat_cols.append(tf.feature_column.numeric_column(col))"
      ],
      "execution_count": 0,
      "outputs": []
    },
    {
      "metadata": {
        "id": "ZX9hd--KfUz3",
        "colab_type": "code",
        "colab": {
          "base_uri": "https://localhost:8080/",
          "height": 110
        },
        "outputId": "2d7239b6-bf25-488c-dc5c-fdca27ab6a37"
      },
      "cell_type": "code",
      "source": [
        "feat_cols"
      ],
      "execution_count": 27,
      "outputs": [
        {
          "output_type": "execute_result",
          "data": {
            "text/plain": [
              "[NumericColumn(key='sepal_length', shape=(1,), default_value=None, dtype=tf.float32, normalizer_fn=None),\n",
              " NumericColumn(key='sepal_width', shape=(1,), default_value=None, dtype=tf.float32, normalizer_fn=None),\n",
              " NumericColumn(key='petal_length', shape=(1,), default_value=None, dtype=tf.float32, normalizer_fn=None),\n",
              " NumericColumn(key='petal_width', shape=(1,), default_value=None, dtype=tf.float32, normalizer_fn=None)]"
            ]
          },
          "metadata": {
            "tags": []
          },
          "execution_count": 27
        }
      ]
    },
    {
      "metadata": {
        "id": "_xelclhNfXn1",
        "colab_type": "code",
        "colab": {}
      },
      "cell_type": "code",
      "source": [
        "input_func = tf.estimator.inputs.pandas_input_fn(x=X_train,y=y_train,batch_size=10,num_epochs=5,shuffle=True)"
      ],
      "execution_count": 0,
      "outputs": []
    },
    {
      "metadata": {
        "id": "FTpZQJZgj0TC",
        "colab_type": "code",
        "colab": {
          "base_uri": "https://localhost:8080/",
          "height": 201
        },
        "outputId": "f218b92f-d474-4773-eab2-a6e0f3e1e4d0"
      },
      "cell_type": "code",
      "source": [
        "classifier = tf.estimator.DNNClassifier(hidden_units=[10, 20, 10], n_classes=3,feature_columns=feat_cols)"
      ],
      "execution_count": 29,
      "outputs": [
        {
          "output_type": "stream",
          "text": [
            "INFO:tensorflow:Using default config.\n",
            "WARNING:tensorflow:Using temporary folder as model directory: /tmp/tmp6of_pnpw\n",
            "INFO:tensorflow:Using config: {'_model_dir': '/tmp/tmp6of_pnpw', '_tf_random_seed': None, '_save_summary_steps': 100, '_save_checkpoints_steps': None, '_save_checkpoints_secs': 600, '_session_config': allow_soft_placement: true\n",
            "graph_options {\n",
            "  rewrite_options {\n",
            "    meta_optimizer_iterations: ONE\n",
            "  }\n",
            "}\n",
            ", '_keep_checkpoint_max': 5, '_keep_checkpoint_every_n_hours': 10000, '_log_step_count_steps': 100, '_train_distribute': None, '_device_fn': None, '_protocol': None, '_eval_distribute': None, '_experimental_distribute': None, '_service': None, '_cluster_spec': <tensorflow.python.training.server_lib.ClusterSpec object at 0x7f0bb38c8ef0>, '_task_type': 'worker', '_task_id': 0, '_global_id_in_cluster': 0, '_master': '', '_evaluation_master': '', '_is_chief': True, '_num_ps_replicas': 0, '_num_worker_replicas': 1}\n"
          ],
          "name": "stdout"
        }
      ]
    },
    {
      "metadata": {
        "id": "EuUOBDdEj3ep",
        "colab_type": "code",
        "colab": {
          "base_uri": "https://localhost:8080/",
          "height": 510
        },
        "outputId": "0be7307a-ad5b-467b-b350-39323de3e6ca"
      },
      "cell_type": "code",
      "source": [
        "classifier.train(input_fn=input_func,steps=50)"
      ],
      "execution_count": 30,
      "outputs": [
        {
          "output_type": "stream",
          "text": [
            "WARNING:tensorflow:From /usr/local/lib/python3.6/dist-packages/tensorflow/python/framework/op_def_library.py:263: colocate_with (from tensorflow.python.framework.ops) is deprecated and will be removed in a future version.\n",
            "Instructions for updating:\n",
            "Colocations handled automatically by placer.\n",
            "WARNING:tensorflow:From /usr/local/lib/python3.6/dist-packages/tensorflow_estimator/python/estimator/inputs/queues/feeding_queue_runner.py:62: QueueRunner.__init__ (from tensorflow.python.training.queue_runner_impl) is deprecated and will be removed in a future version.\n",
            "Instructions for updating:\n",
            "To construct input pipelines, use the `tf.data` module.\n",
            "WARNING:tensorflow:From /usr/local/lib/python3.6/dist-packages/tensorflow_estimator/python/estimator/inputs/queues/feeding_functions.py:500: add_queue_runner (from tensorflow.python.training.queue_runner_impl) is deprecated and will be removed in a future version.\n",
            "Instructions for updating:\n",
            "To construct input pipelines, use the `tf.data` module.\n",
            "INFO:tensorflow:Calling model_fn.\n",
            "WARNING:tensorflow:From /usr/local/lib/python3.6/dist-packages/tensorflow/python/feature_column/feature_column_v2.py:2703: to_float (from tensorflow.python.ops.math_ops) is deprecated and will be removed in a future version.\n",
            "Instructions for updating:\n",
            "Use tf.cast instead.\n",
            "INFO:tensorflow:Done calling model_fn.\n",
            "INFO:tensorflow:Create CheckpointSaverHook.\n",
            "INFO:tensorflow:Graph was finalized.\n",
            "INFO:tensorflow:Running local_init_op.\n",
            "INFO:tensorflow:Done running local_init_op.\n",
            "WARNING:tensorflow:From /usr/local/lib/python3.6/dist-packages/tensorflow/python/training/monitored_session.py:809: start_queue_runners (from tensorflow.python.training.queue_runner_impl) is deprecated and will be removed in a future version.\n",
            "Instructions for updating:\n",
            "To construct input pipelines, use the `tf.data` module.\n",
            "INFO:tensorflow:Saving checkpoints for 0 into /tmp/tmp6of_pnpw/model.ckpt.\n",
            "INFO:tensorflow:loss = 12.129604, step = 1\n",
            "INFO:tensorflow:Saving checkpoints for 50 into /tmp/tmp6of_pnpw/model.ckpt.\n",
            "INFO:tensorflow:Loss for final step: 2.1192956.\n"
          ],
          "name": "stdout"
        },
        {
          "output_type": "execute_result",
          "data": {
            "text/plain": [
              "<tensorflow_estimator.python.estimator.canned.dnn.DNNClassifier at 0x7f0bb38c8940>"
            ]
          },
          "metadata": {
            "tags": []
          },
          "execution_count": 30
        }
      ]
    },
    {
      "metadata": {
        "id": "HJDmySq-j5nr",
        "colab_type": "code",
        "colab": {}
      },
      "cell_type": "code",
      "source": [
        "pred_fn = tf.estimator.inputs.pandas_input_fn(x=X_test,batch_size=len(X_test),shuffle=False)"
      ],
      "execution_count": 0,
      "outputs": []
    },
    {
      "metadata": {
        "id": "OJ2niGBVqNUR",
        "colab_type": "code",
        "colab": {
          "base_uri": "https://localhost:8080/",
          "height": 201
        },
        "outputId": "ae2595ac-c55c-4f47-cf10-1c7f87f6707e"
      },
      "cell_type": "code",
      "source": [
        "note_predictions = list(classifier.predict(input_fn=pred_fn))"
      ],
      "execution_count": 32,
      "outputs": [
        {
          "output_type": "stream",
          "text": [
            "INFO:tensorflow:Calling model_fn.\n",
            "INFO:tensorflow:Done calling model_fn.\n",
            "INFO:tensorflow:Graph was finalized.\n",
            "WARNING:tensorflow:From /usr/local/lib/python3.6/dist-packages/tensorflow/python/training/saver.py:1266: checkpoint_exists (from tensorflow.python.training.checkpoint_management) is deprecated and will be removed in a future version.\n",
            "Instructions for updating:\n",
            "Use standard file APIs to check for files with this prefix.\n",
            "INFO:tensorflow:Restoring parameters from /tmp/tmp6of_pnpw/model.ckpt-50\n",
            "INFO:tensorflow:Running local_init_op.\n",
            "INFO:tensorflow:Done running local_init_op.\n"
          ],
          "name": "stdout"
        }
      ]
    },
    {
      "metadata": {
        "id": "hv-r43ueqRyp",
        "colab_type": "code",
        "colab": {
          "base_uri": "https://localhost:8080/",
          "height": 199
        },
        "outputId": "578ad8d4-9f13-45cc-f2ef-8846668c1b4b"
      },
      "cell_type": "code",
      "source": [
        "note_predictions = list(classifier.predict(input_fn=pred_fn))\n",
        "note_predictions[0]"
      ],
      "execution_count": 35,
      "outputs": [
        {
          "output_type": "stream",
          "text": [
            "INFO:tensorflow:Calling model_fn.\n",
            "INFO:tensorflow:Done calling model_fn.\n",
            "INFO:tensorflow:Graph was finalized.\n",
            "INFO:tensorflow:Restoring parameters from /tmp/tmp6of_pnpw/model.ckpt-50\n",
            "INFO:tensorflow:Running local_init_op.\n",
            "INFO:tensorflow:Done running local_init_op.\n"
          ],
          "name": "stdout"
        },
        {
          "output_type": "execute_result",
          "data": {
            "text/plain": [
              "{'class_ids': array([2]),\n",
              " 'classes': array([b'2'], dtype=object),\n",
              " 'logits': array([-5.2267056 ,  0.82864475,  1.1864147 ], dtype=float32),\n",
              " 'probabilities': array([0.00096415, 0.4111027 , 0.58793306], dtype=float32)}"
            ]
          },
          "metadata": {
            "tags": []
          },
          "execution_count": 35
        }
      ]
    },
    {
      "metadata": {
        "id": "vTfsgJ1tqgOl",
        "colab_type": "code",
        "colab": {}
      },
      "cell_type": "code",
      "source": [
        "final_preds  = []\n",
        "for pred in note_predictions:\n",
        "    final_preds.append(pred['class_ids'][0])"
      ],
      "execution_count": 0,
      "outputs": []
    },
    {
      "metadata": {
        "id": "z2Yw56RnqlxI",
        "colab_type": "code",
        "colab": {
          "base_uri": "https://localhost:8080/",
          "height": 3290
        },
        "outputId": "42658076-3d8d-4059-cdc8-3c7c445b7c6d"
      },
      "cell_type": "code",
      "source": [
        "note_predictions"
      ],
      "execution_count": 37,
      "outputs": [
        {
          "output_type": "execute_result",
          "data": {
            "text/plain": [
              "[{'class_ids': array([2]),\n",
              "  'classes': array([b'2'], dtype=object),\n",
              "  'logits': array([-5.2267056 ,  0.82864475,  1.1864147 ], dtype=float32),\n",
              "  'probabilities': array([0.00096415, 0.4111027 , 0.58793306], dtype=float32)},\n",
              " {'class_ids': array([0]),\n",
              "  'classes': array([b'0'], dtype=object),\n",
              "  'logits': array([ 3.22087  , -2.4717398, -7.2887135], dtype=float32),\n",
              "  'probabilities': array([9.9661344e-01, 3.3593690e-03, 2.7181452e-05], dtype=float32)},\n",
              " {'class_ids': array([2]),\n",
              "  'classes': array([b'2'], dtype=object),\n",
              "  'logits': array([-8.723447 ,  1.4043032,  4.416547 ], dtype=float32),\n",
              "  'probabilities': array([1.8729319e-06, 4.6875708e-02, 9.5312244e-01], dtype=float32)},\n",
              " {'class_ids': array([2]),\n",
              "  'classes': array([b'2'], dtype=object),\n",
              "  'logits': array([-5.298854  ,  0.91609216,  1.416755  ], dtype=float32),\n",
              "  'probabilities': array([0.00075395, 0.37710044, 0.6221457 ], dtype=float32)},\n",
              " {'class_ids': array([1]),\n",
              "  'classes': array([b'1'], dtype=object),\n",
              "  'logits': array([-5.409914 ,  0.8223809,  0.7225799], dtype=float32),\n",
              "  'probabilities': array([0.00103039, 0.5243887 , 0.4745809 ], dtype=float32)},\n",
              " {'class_ids': array([0]),\n",
              "  'classes': array([b'0'], dtype=object),\n",
              "  'logits': array([ 2.9162745, -2.3117447, -6.883768 ], dtype=float32),\n",
              "  'probabilities': array([9.9460959e-01, 5.3352253e-03, 5.5150318e-05], dtype=float32)},\n",
              " {'class_ids': array([1]),\n",
              "  'classes': array([b'1'], dtype=object),\n",
              "  'logits': array([-3.5754344 ,  0.5531061 , -0.87402016], dtype=float32),\n",
              "  'probabilities': array([0.01282248, 0.7961124 , 0.19106507], dtype=float32)},\n",
              " {'class_ids': array([2]),\n",
              "  'classes': array([b'2'], dtype=object),\n",
              "  'logits': array([-6.8330984,  1.3831084,  3.2591217], dtype=float32),\n",
              "  'probabilities': array([3.5899164e-05, 1.3284270e-01, 8.6712140e-01], dtype=float32)},\n",
              " {'class_ids': array([2]),\n",
              "  'classes': array([b'2'], dtype=object),\n",
              "  'logits': array([-5.5680947,  0.9902176,  1.8609757], dtype=float32),\n",
              "  'probabilities': array([4.1835365e-04, 2.9497311e-01, 7.0460850e-01], dtype=float32)},\n",
              " {'class_ids': array([1]),\n",
              "  'classes': array([b'1'], dtype=object),\n",
              "  'logits': array([-4.1698484 ,  0.5709026 , -0.42094153], dtype=float32),\n",
              "  'probabilities': array([0.00632932, 0.7248351 , 0.2688356 ], dtype=float32)},\n",
              " {'class_ids': array([2]),\n",
              "  'classes': array([b'2'], dtype=object),\n",
              "  'logits': array([-6.5326447,  1.2911152,  3.117672 ], dtype=float32),\n",
              "  'probabilities': array([5.5472407e-05, 1.3864128e-01, 8.6130327e-01], dtype=float32)},\n",
              " {'class_ids': array([0]),\n",
              "  'classes': array([b'0'], dtype=object),\n",
              "  'logits': array([ 2.7688994, -2.1268716, -6.365881 ], dtype=float32),\n",
              "  'probabilities': array([9.9247110e-01, 7.4218391e-03, 1.0703676e-04], dtype=float32)},\n",
              " {'class_ids': array([0]),\n",
              "  'classes': array([b'0'], dtype=object),\n",
              "  'logits': array([ 3.4445934, -2.6587229, -7.555858 ], dtype=float32),\n",
              "  'probabilities': array([9.9775296e-01, 2.2304188e-03, 1.6656641e-05], dtype=float32)},\n",
              " {'class_ids': array([0]),\n",
              "  'classes': array([b'0'], dtype=object),\n",
              "  'logits': array([ 2.7775068, -2.1254869, -6.401312 ], dtype=float32),\n",
              "  'probabilities': array([9.9252868e-01, 7.3688542e-03, 1.0243132e-04], dtype=float32)},\n",
              " {'class_ids': array([0]),\n",
              "  'classes': array([b'0'], dtype=object),\n",
              "  'logits': array([ 3.160522 , -2.336053 , -6.8126125], dtype=float32),\n",
              "  'probabilities': array([9.9586970e-01, 4.0838555e-03, 4.6443511e-05], dtype=float32)},\n",
              " {'class_ids': array([2]),\n",
              "  'classes': array([b'2'], dtype=object),\n",
              "  'logits': array([-5.4174337 ,  0.91647017,  1.2416925 ], dtype=float32),\n",
              "  'probabilities': array([0.00074393, 0.4190915 , 0.5801645 ], dtype=float32)},\n",
              " {'class_ids': array([2]),\n",
              "  'classes': array([b'2'], dtype=object),\n",
              "  'logits': array([-7.4457717,  1.2639222,  3.7529197], dtype=float32),\n",
              "  'probabilities': array([1.2642674e-05, 7.6632135e-02, 9.2335516e-01], dtype=float32)},\n",
              " {'class_ids': array([1]),\n",
              "  'classes': array([b'1'], dtype=object),\n",
              "  'logits': array([-4.21251   ,  0.5919838 , -0.10184985], dtype=float32),\n",
              "  'probabilities': array([0.00543346, 0.663196  , 0.33137047], dtype=float32)},\n",
              " {'class_ids': array([2]),\n",
              "  'classes': array([b'2'], dtype=object),\n",
              "  'logits': array([-5.1994815 ,  0.89350235,  1.5719001 ], dtype=float32),\n",
              "  'probabilities': array([0.00075973, 0.33636326, 0.662877  ], dtype=float32)},\n",
              " {'class_ids': array([2]),\n",
              "  'classes': array([b'2'], dtype=object),\n",
              "  'logits': array([-7.3425655,  1.2751116,  3.707663 ], dtype=float32),\n",
              "  'probabilities': array([1.46011325e-05, 8.07227567e-02, 9.19262648e-01], dtype=float32)},\n",
              " {'class_ids': array([0]),\n",
              "  'classes': array([b'0'], dtype=object),\n",
              "  'logits': array([ 2.5558288, -1.9228064, -5.9520946], dtype=float32),\n",
              "  'probabilities': array([9.8858124e-01, 1.1219300e-02, 1.9955762e-04], dtype=float32)},\n",
              " {'class_ids': array([2]),\n",
              "  'classes': array([b'2'], dtype=object),\n",
              "  'logits': array([-6.212984 ,  1.2213334,  2.9961405], dtype=float32),\n",
              "  'probabilities': array([8.5602143e-05, 1.4493313e-01, 8.5498130e-01], dtype=float32)},\n",
              " {'class_ids': array([0]),\n",
              "  'classes': array([b'0'], dtype=object),\n",
              "  'logits': array([ 2.5861225, -1.9893786, -6.1966677], dtype=float32),\n",
              "  'probabilities': array([9.8965377e-01, 1.0194560e-02, 1.5176303e-04], dtype=float32)},\n",
              " {'class_ids': array([2]),\n",
              "  'classes': array([b'2'], dtype=object),\n",
              "  'logits': array([-7.249647 ,  1.2541345,  3.6477137], dtype=float32),\n",
              "  'probabilities': array([1.6958362e-05, 8.3662219e-02, 9.1632080e-01], dtype=float32)},\n",
              " {'class_ids': array([2]),\n",
              "  'classes': array([b'2'], dtype=object),\n",
              "  'logits': array([-7.707838 ,  1.4238087,  3.6450937], dtype=float32),\n",
              "  'probabilities': array([1.0586586e-05, 9.7854279e-02, 9.0213513e-01], dtype=float32)},\n",
              " {'class_ids': array([2]),\n",
              "  'classes': array([b'2'], dtype=object),\n",
              "  'logits': array([-7.063082 ,  1.380788 ,  3.5542586], dtype=float32),\n",
              "  'probabilities': array([2.1985565e-05, 1.0215603e-01, 8.9782202e-01], dtype=float32)},\n",
              " {'class_ids': array([2]),\n",
              "  'classes': array([b'2'], dtype=object),\n",
              "  'logits': array([-7.286391 ,  1.2389586,  3.6404462], dtype=float32),\n",
              "  'probabilities': array([1.6476657e-05, 8.3057962e-02, 9.1692555e-01], dtype=float32)},\n",
              " {'class_ids': array([2]),\n",
              "  'classes': array([b'2'], dtype=object),\n",
              "  'logits': array([-7.6460195,  1.3298734,  3.8524754], dtype=float32),\n",
              "  'probabilities': array([9.391576e-06, 7.428811e-02, 9.257025e-01], dtype=float32)},\n",
              " {'class_ids': array([0]),\n",
              "  'classes': array([b'0'], dtype=object),\n",
              "  'logits': array([ 2.57147 , -2.024035, -6.160139], dtype=float32),\n",
              "  'probabilities': array([9.8984563e-01, 9.9945925e-03, 1.5976356e-04], dtype=float32)},\n",
              " {'class_ids': array([0]),\n",
              "  'classes': array([b'0'], dtype=object),\n",
              "  'logits': array([ 2.5279613, -1.9426571, -6.0278726], dtype=float32),\n",
              "  'probabilities': array([9.88501072e-01, 1.13086905e-02, 1.90206658e-04], dtype=float32)},\n",
              " {'class_ids': array([0]),\n",
              "  'classes': array([b'0'], dtype=object),\n",
              "  'logits': array([ 3.339518 , -2.4710717, -6.8805857], dtype=float32),\n",
              "  'probabilities': array([9.9697709e-01, 2.9866071e-03, 3.6320376e-05], dtype=float32)},\n",
              " {'class_ids': array([0]),\n",
              "  'classes': array([b'0'], dtype=object),\n",
              "  'logits': array([ 3.7152908, -2.761166 , -7.778525 ], dtype=float32),\n",
              "  'probabilities': array([9.9845290e-01, 1.5368738e-03, 1.0177168e-05], dtype=float32)},\n",
              " {'class_ids': array([1]),\n",
              "  'classes': array([b'1'], dtype=object),\n",
              "  'logits': array([-4.67332   ,  0.62084484, -0.55612475], dtype=float32),\n",
              "  'probabilities': array([0.00382324, 0.76148   , 0.23469678], dtype=float32)},\n",
              " {'class_ids': array([0]),\n",
              "  'classes': array([b'0'], dtype=object),\n",
              "  'logits': array([ 2.7458546, -2.0353222, -6.1842957], dtype=float32),\n",
              "  'probabilities': array([9.9155349e-01, 8.3152931e-03, 1.3122038e-04], dtype=float32)},\n",
              " {'class_ids': array([0]),\n",
              "  'classes': array([b'0'], dtype=object),\n",
              "  'logits': array([ 2.7490058, -2.020762 , -6.003183 ], dtype=float32),\n",
              "  'probabilities': array([9.914336e-01, 8.409687e-03, 1.567604e-04], dtype=float32)},\n",
              " {'class_ids': array([2]),\n",
              "  'classes': array([b'2'], dtype=object),\n",
              "  'logits': array([-6.665788 ,  1.276021 ,  3.3316298], dtype=float32),\n",
              "  'probabilities': array([4.0350085e-05, 1.1348230e-01, 8.8647741e-01], dtype=float32)},\n",
              " {'class_ids': array([1]),\n",
              "  'classes': array([b'1'], dtype=object),\n",
              "  'logits': array([-4.9994736,  0.7655344,  0.3662402], dtype=float32),\n",
              "  'probabilities': array([0.00187306, 0.597397  , 0.40072992], dtype=float32)},\n",
              " {'class_ids': array([0]),\n",
              "  'classes': array([b'0'], dtype=object),\n",
              "  'logits': array([ 3.0995278, -2.3463306, -6.8877926], dtype=float32),\n",
              "  'probabilities': array([9.9565876e-01, 4.2954059e-03, 4.5779663e-05], dtype=float32)},\n",
              " {'class_ids': array([0]),\n",
              "  'classes': array([b'0'], dtype=object),\n",
              "  'logits': array([ 3.1927788, -2.3599224, -6.8297143], dtype=float32),\n",
              "  'probabilities': array([9.9609405e-01, 3.8618282e-03, 4.4216747e-05], dtype=float32)},\n",
              " {'class_ids': array([0]),\n",
              "  'classes': array([b'0'], dtype=object),\n",
              "  'logits': array([ 3.4567058, -2.552731 , -7.2766733], dtype=float32),\n",
              "  'probabilities': array([9.9752885e-01, 2.4494033e-03, 2.1750941e-05], dtype=float32)},\n",
              " {'class_ids': array([2]),\n",
              "  'classes': array([b'2'], dtype=object),\n",
              "  'logits': array([-6.5713825,  1.1519892,  3.2848241], dtype=float32),\n",
              "  'probabilities': array([4.68648323e-05, 1.05941206e-01, 8.94011974e-01], dtype=float32)},\n",
              " {'class_ids': array([2]),\n",
              "  'classes': array([b'2'], dtype=object),\n",
              "  'logits': array([-5.159116 ,  0.8798461,  1.0902815], dtype=float32),\n",
              "  'probabilities': array([0.00106592, 0.44710732, 0.5518267 ], dtype=float32)},\n",
              " {'class_ids': array([1]),\n",
              "  'classes': array([b'1'], dtype=object),\n",
              "  'logits': array([-5.2577915,  0.8021586,  0.517651 ], dtype=float32),\n",
              "  'probabilities': array([0.00133042, 0.56989175, 0.4287778 ], dtype=float32)},\n",
              " {'class_ids': array([0]),\n",
              "  'classes': array([b'0'], dtype=object),\n",
              "  'logits': array([ 3.4942849, -2.6298718, -7.431752 ], dtype=float32),\n",
              "  'probabilities': array([9.9779761e-01, 2.1845144e-03, 1.7944236e-05], dtype=float32)},\n",
              " {'class_ids': array([0]),\n",
              "  'classes': array([b'0'], dtype=object),\n",
              "  'logits': array([ 3.3315976, -2.5072465, -7.245934 ], dtype=float32),\n",
              "  'probabilities': array([9.9707091e-01, 2.9036761e-03, 2.5407524e-05], dtype=float32)}]"
            ]
          },
          "metadata": {
            "tags": []
          },
          "execution_count": 37
        }
      ]
    },
    {
      "metadata": {
        "id": "jzZs_btkrAB2",
        "colab_type": "code",
        "colab": {
          "base_uri": "https://localhost:8080/",
          "height": 835
        },
        "outputId": "12f4d325-2cee-4c23-9490-a49fbbf8b3bd"
      },
      "cell_type": "code",
      "source": [
        "final_preds"
      ],
      "execution_count": 38,
      "outputs": [
        {
          "output_type": "execute_result",
          "data": {
            "text/plain": [
              "[2,\n",
              " 0,\n",
              " 2,\n",
              " 2,\n",
              " 1,\n",
              " 0,\n",
              " 1,\n",
              " 2,\n",
              " 2,\n",
              " 1,\n",
              " 2,\n",
              " 0,\n",
              " 0,\n",
              " 0,\n",
              " 0,\n",
              " 2,\n",
              " 2,\n",
              " 1,\n",
              " 2,\n",
              " 2,\n",
              " 0,\n",
              " 2,\n",
              " 0,\n",
              " 2,\n",
              " 2,\n",
              " 2,\n",
              " 2,\n",
              " 2,\n",
              " 0,\n",
              " 0,\n",
              " 0,\n",
              " 0,\n",
              " 1,\n",
              " 0,\n",
              " 0,\n",
              " 2,\n",
              " 1,\n",
              " 0,\n",
              " 0,\n",
              " 0,\n",
              " 2,\n",
              " 2,\n",
              " 1,\n",
              " 0,\n",
              " 0]"
            ]
          },
          "metadata": {
            "tags": []
          },
          "execution_count": 38
        }
      ]
    },
    {
      "metadata": {
        "id": "v4gxNSvZrmxa",
        "colab_type": "code",
        "colab": {}
      },
      "cell_type": "code",
      "source": [
        "from sklearn.metrics import classification_report,confusion_matrix"
      ],
      "execution_count": 0,
      "outputs": []
    },
    {
      "metadata": {
        "id": "mXmQis5Mr6M-",
        "colab_type": "code",
        "colab": {
          "base_uri": "https://localhost:8080/",
          "height": 72
        },
        "outputId": "8e8bf1f1-b285-4c6e-edeb-4d01aa7781f9"
      },
      "cell_type": "code",
      "source": [
        "print(confusion_matrix(y_test,final_preds))"
      ],
      "execution_count": 40,
      "outputs": [
        {
          "output_type": "stream",
          "text": [
            "[[19  0  0]\n",
            " [ 0  7  6]\n",
            " [ 0  0 13]]\n"
          ],
          "name": "stdout"
        }
      ]
    },
    {
      "metadata": {
        "id": "3rMt6rhur8Ej",
        "colab_type": "code",
        "colab": {
          "base_uri": "https://localhost:8080/",
          "height": 199
        },
        "outputId": "852a7fc4-25f5-4f48-c14d-2ccf863f6c64"
      },
      "cell_type": "code",
      "source": [
        "print(classification_report(y_test,final_preds))"
      ],
      "execution_count": 41,
      "outputs": [
        {
          "output_type": "stream",
          "text": [
            "              precision    recall  f1-score   support\n",
            "\n",
            "           0       1.00      1.00      1.00        19\n",
            "           1       1.00      0.54      0.70        13\n",
            "           2       0.68      1.00      0.81        13\n",
            "\n",
            "   micro avg       0.87      0.87      0.87        45\n",
            "   macro avg       0.89      0.85      0.84        45\n",
            "weighted avg       0.91      0.87      0.86        45\n",
            "\n"
          ],
          "name": "stdout"
        }
      ]
    },
    {
      "metadata": {
        "id": "JjLnwNsXsHlk",
        "colab_type": "code",
        "colab": {}
      },
      "cell_type": "code",
      "source": [
        ""
      ],
      "execution_count": 0,
      "outputs": []
    }
  ]
}